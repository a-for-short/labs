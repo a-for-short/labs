{
 "cells": [
  {
   "cell_type": "markdown",
   "id": "498972ca-188f-49db-a7cf-81707af9d93d",
   "metadata": {},
   "source": [
    "# Оптическое определение никеля"
   ]
  },
  {
   "cell_type": "code",
   "execution_count": 50,
   "id": "1cf55513-f618-4834-9948-62b8b053f253",
   "metadata": {},
   "outputs": [],
   "source": [
    "import numpy as np\n",
    "import matplotlib.pyplot as plt\n",
    "from scipy.stats import linregress"
   ]
  },
  {
   "cell_type": "code",
   "execution_count": 49,
   "id": "55368597-fef8-4178-96f8-9643823da3e7",
   "metadata": {},
   "outputs": [],
   "source": [
    "def subtract_baseline(signal_x, signal_y, baseline_x, baseline_y):\n",
    "    \"\"\"\n",
    "    Subtracts the baseline from the signal after interpolating the baseline.\n",
    "\n",
    "    Parameters:\n",
    "    - signal_x: Array of x values for the signal.\n",
    "    - signal_y: Array of y values for the signal.\n",
    "    - baseline_x: Array of x values for the baseline.\n",
    "    - baseline_y: Array of y values for the baseline.\n",
    "\n",
    "    Returns:\n",
    "    - result_y: Array of y values after subtracting the baseline from the signal.\n",
    "    \"\"\"\n",
    "    \n",
    "    # Create an interpolation function for the baseline\n",
    "    interpolate_baseline = interp1d(baseline_x, baseline_y, bounds_error=False, fill_value=\"extrapolate\")\n",
    "    \n",
    "    # Interpolate the baseline values at the x points of the signal\n",
    "    interpolated_baseline_y = interpolate_baseline(signal_x)\n",
    "    \n",
    "    # Subtract the interpolated baseline from the signal\n",
    "    result_y = signal_y - interpolated_baseline_y\n",
    "    \n",
    "    return result_y\n",
    "def f(X, A, B):\n",
    "    return A * X + B \n",
    "def f_1(Y, A, B):\n",
    "    '''\n",
    "    Y = AX + B\n",
    "    '''\n",
    "    return (Y - B) / A"
   ]
  },
  {
   "cell_type": "markdown",
   "id": "dbb144e2-627d-4dc3-992e-a3ca80b048cb",
   "metadata": {},
   "source": [
    "## <font color='fff223'> Калибровка</font>"
   ]
  },
  {
   "cell_type": "code",
   "execution_count": null,
   "id": "65a0e1ec-edc9-45de-85c4-8bb42fee850e",
   "metadata": {},
   "outputs": [],
   "source": [
    "c_std = \n",
    "V_flask_cal = 100.00 #ml\n",
    "V_cal = np.array([ 4.,  6.,  8., 10., 12., 14., 16.]) #ml\n",
    "c_cal = V_cal * c_std"
   ]
  },
  {
   "cell_type": "markdown",
   "id": "0777f6a1-4ffb-4ef1-9e97-a90ae23c62dd",
   "metadata": {},
   "source": [
    "### <font color='fff223'> Недифференциальная </font>"
   ]
  },
  {
   "cell_type": "code",
   "execution_count": 21,
   "id": "0fdd2293-a03a-49d9-bbc3-0888bee52509",
   "metadata": {},
   "outputs": [],
   "source": [
    "l_cal = 0.3 #Cuvette length cm\n",
    "A_cal = np.array([]) # Optical density\n",
    "\n",
    "#A_0 = np.float64(INPUT) # Needed if no baseline\n",
    "#A = A - A_0"
   ]
  },
  {
   "cell_type": "code",
   "execution_count": null,
   "id": "e9a45c6b-8ae2-47c0-87cb-72cbd5d5b114",
   "metadata": {},
   "outputs": [],
   "source": [
    "slope_cal, intercept_cal = linregress(c_cal, A_cal)[0], linregress(c_cal, A_cal)[1]"
   ]
  },
  {
   "cell_type": "code",
   "execution_count": null,
   "id": "e1840830-41db-4dc1-9d62-f3aa425d5ce2",
   "metadata": {},
   "outputs": [],
   "source": [
    "plt.scatter(c_cal, A_cal)\n",
    "c_cal_fine = np.linspace(np.min(c_cal), np.max(c_cal), 100)\n",
    "plt.plot(c_cal_fine, f(c_cal_fine, slope_cal, intercept_cal))"
   ]
  },
  {
   "cell_type": "markdown",
   "id": "11322af8-8c3d-4c2f-85d2-2268c16ea224",
   "metadata": {},
   "source": [
    "### <font color='fff223'> Дифференциальная </font>"
   ]
  },
  {
   "cell_type": "code",
   "execution_count": null,
   "id": "e224267e-d4a9-4d45-b86d-a532077c8f25",
   "metadata": {},
   "outputs": [],
   "source": [
    "l_dif_cal = \n",
    "A_dif_cal = np.array([]) # Needed if no baseline\n",
    "#A_0_dif = A_dif[3]\n",
    "#A_dif = A_dif - A_0_dif"
   ]
  },
  {
   "cell_type": "code",
   "execution_count": null,
   "id": "00696ea0-2b54-42d0-82b4-0ba852bbf16c",
   "metadata": {},
   "outputs": [],
   "source": [
    "slope_dif_cal, intercept_dif_cal = linregress(c_dif_cal, A_dif_cal)[0], linregress(c_dif_cal, A_dif_cal)[1]"
   ]
  },
  {
   "cell_type": "code",
   "execution_count": null,
   "id": "b40c5f95-992a-4709-8e01-07698eb32995",
   "metadata": {},
   "outputs": [],
   "source": [
    "plt.scatter(c_dif_cal, A_dif_cal)\n",
    "\n",
    "c_dif_cal_fine = np.linspace(np.min(c_dif_cal), np.max(c_dif_cal), 100)\n",
    "plt.plot(c_dif_cal_fine, f(c_dif_cal_fine, slope_dif_cal, intercept_dif_cal))"
   ]
  },
  {
   "cell_type": "markdown",
   "id": "59f38ba5-bab0-4353-adc3-811426119824",
   "metadata": {},
   "source": [
    "## Определение"
   ]
  },
  {
   "cell_type": "markdown",
   "id": "aed9156e-76ca-40af-9430-eb8ff1db07ab",
   "metadata": {},
   "source": [
    "### Недифференциальное"
   ]
  },
  {
   "cell_type": "code",
   "execution_count": null,
   "id": "afc71bfc-50a7-4717-871d-b2c4c525fe89",
   "metadata": {},
   "outputs": [],
   "source": [
    "m_steel_1 = \n",
    "m_steel_2 = \n",
    "V_exer_flask = 250.0\n",
    "V_aliq = 25.00"
   ]
  },
  {
   "cell_type": "code",
   "execution_count": null,
   "id": "3e81afcf-1344-41bc-bbbe-63e6d95dd25c",
   "metadata": {},
   "outputs": [],
   "source": [
    "A_1 = np.array([])\n",
    "f_1(A_1, slope_cal, intercept_cal)"
   ]
  },
  {
   "cell_type": "markdown",
   "id": "abaa208a-fad5-4da9-9a7f-834f52f5a5f3",
   "metadata": {},
   "source": [
    "### Дифференциальное"
   ]
  },
  {
   "cell_type": "code",
   "execution_count": null,
   "id": "fc0a88d4-f694-425f-9e38-4f2e0777060e",
   "metadata": {},
   "outputs": [],
   "source": [
    "A_2 = np.array([])\n",
    "f_1(A_2, slope_cal, intercept_cal)"
   ]
  }
 ],
 "metadata": {
  "kernelspec": {
   "display_name": "MyVEnv",
   "language": "python",
   "name": ".myvenv"
  },
  "language_info": {
   "codemirror_mode": {
    "name": "ipython",
    "version": 3
   },
   "file_extension": ".py",
   "mimetype": "text/x-python",
   "name": "python",
   "nbconvert_exporter": "python",
   "pygments_lexer": "ipython3",
   "version": "3.12.6"
  }
 },
 "nbformat": 4,
 "nbformat_minor": 5
}
