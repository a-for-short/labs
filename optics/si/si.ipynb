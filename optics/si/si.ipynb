{
 "cells": [
  {
   "cell_type": "markdown",
   "id": "d0df6fe7-3142-4d7b-a722-11b7ad005adb",
   "metadata": {},
   "source": [
    "# $Si-N$"
   ]
  },
  {
   "cell_type": "code",
   "execution_count": 2,
   "id": "0dbc8ad6-e81f-4603-8d01-ba50531668d7",
   "metadata": {},
   "outputs": [],
   "source": [
    "import numpy as np\n",
    "from scipy.stats import linregress\n",
    "\n",
    "def lin(X, A, B):\n",
    "    '''\n",
    "    Y = A * X + B\n",
    "    '''\n",
    "    return A * X + B\n",
    "def lin_1(Y, A, B):\n",
    "    '''\n",
    "    Y = A * X + B\n",
    "    (Y - B) / A = X\n",
    "    '''\n",
    "    return (Y - B) / A"
   ]
  },
  {
   "cell_type": "code",
   "execution_count": null,
   "id": "ddb409ff-e25d-4b6a-84da-5f06de7e23fa",
   "metadata": {},
   "outputs": [],
   "source": [
    "c_std = \n",
    "V_fl = 100\n",
    "V_cal = np.array([1.00, 2.00, 3.00, 4.00, 5.00, 6.00, 7.00, 8.00])\n",
    "c_cal = V_cal * c_std / V_fl\n",
    "A_cal = np.array([])\n",
    "\n",
    "\n",
    "m_steel = np.array([ - ,\n",
    "                     - ])\n",
    "V_aliq = np.array([5.00, 10.00])\n",
    "A_ex = np.array([, ])"
   ]
  },
  {
   "cell_type": "code",
   "execution_count": null,
   "id": "a4cfdf3d-069e-4345-8e02-fc426fb1122d",
   "metadata": {},
   "outputs": [],
   "source": [
    "plt.scatter(c_cal, A_cal, label='Data')\n",
    "c_fine = np.linspace(min(c_cal), max(c_cal), 100)\n",
    "params = linregress(c_cal, A_cal)\n",
    "plt.plot(c_fine, lin(c_fine, params[0], params[1]), label='Linear fit')\n",
    "plt.scatter()\n",
    "plt.xlabel('c, M')\n",
    "plt.ylabel('A, a.u.')\n",
    "plt.scatter(lin_1(A_ex, params[0], params[1]), A_ex, label='Exercises')\n",
    "plt.legend()"
   ]
  }
 ],
 "metadata": {
  "kernelspec": {
   "display_name": "MyVEnv",
   "language": "python",
   "name": ".myvenv"
  },
  "language_info": {
   "codemirror_mode": {
    "name": "ipython",
    "version": 3
   },
   "file_extension": ".py",
   "mimetype": "text/x-python",
   "name": "python",
   "nbconvert_exporter": "python",
   "pygments_lexer": "ipython3",
   "version": "3.12.7"
  }
 },
 "nbformat": 4,
 "nbformat_minor": 5
}
