{
 "cells": [
  {
   "cell_type": "code",
   "execution_count": 5,
   "id": "7ac0a885-eab2-4aef-85ab-bca04c3b0bcf",
   "metadata": {},
   "outputs": [],
   "source": [
    "import numpy as np\n",
    "from scipy.stats import linregress\n",
    "import matplotlib.pyplot as plt\n",
    "\n",
    "def line(x, a, b):\n",
    "    '''\n",
    "    y = ax + b\n",
    "    '''\n",
    "    return a * x + b\n",
    "\n",
    "def line_1(y, a, b):\n",
    "    '''\n",
    "    as y = ax + b\n",
    "    '''\n",
    "    return ( y - b ) / a"
   ]
  },
  {
   "cell_type": "markdown",
   "id": "e46ba911-dabb-4f3d-91e8-8217017e0119",
   "metadata": {},
   "source": [
    "## Расчёт давления изопропанола при 298K"
   ]
  },
  {
   "cell_type": "code",
   "execution_count": 9,
   "id": "2607572f-8f5b-4ce8-9c19-29959eee04cc",
   "metadata": {},
   "outputs": [],
   "source": [
    "p = np.array([1, 10, 40, 100, 760]) #mmHg\n",
    "T = np.array([-26.1, 2.4, 23.8, 39.5, 82.5]) #Celsius\n",
    "#Convert units of p and T\n",
    "T = T + 273.15 #K\n",
    "p = p*0.001333224*10**5 #bar"
   ]
  },
  {
   "cell_type": "markdown",
   "id": "5668dc41-cb7d-4763-8f5b-41f465584226",
   "metadata": {},
   "source": [
    "..."
   ]
  },
  {
   "cell_type": "code",
   "execution_count": 10,
   "id": "dca47c95-d099-4686-8c89-b5d186738857",
   "metadata": {},
   "outputs": [],
   "source": [
    "p_isopr = 0.01051 #bar"
   ]
  },
  {
   "cell_type": "markdown",
   "id": "49743999-6efc-42e2-a712-2eff66168e41",
   "metadata": {},
   "source": [
    "## Расчёт ТД величин по получившейся константе (промежуточные резы в табличке)"
   ]
  },
  {
   "cell_type": "code",
   "execution_count": 12,
   "id": "f987a070-b0ca-4562-bb64-31a588e9ca01",
   "metadata": {},
   "outputs": [],
   "source": [
    "K_p_res = np.array([ 0.0860, 0.1131, 0.1368])\n",
    "T = np.array([140, 150, 160])\n",
    "T = T + 273.15"
   ]
  },
  {
   "cell_type": "code",
   "execution_count": 18,
   "id": "ec597d12-2146-42ab-87f4-3e540db079cf",
   "metadata": {},
   "outputs": [],
   "source": [
    "d_r_H = linregress(1000/T, -np.log(K_p_res))[0]*8.314"
   ]
  },
  {
   "cell_type": "code",
   "execution_count": 19,
   "id": "e5e697ea-aa54-438e-b063-7a94e7013427",
   "metadata": {},
   "outputs": [
    {
     "data": {
      "text/plain": [
       "LinregressResult(slope=4.158446680726365, intercept=-7.6236439515868675, rvalue=0.9959470162622742, pvalue=0.0573362576281739, stderr=0.37554054943678433, intercept_stderr=0.8879839769202583)"
      ]
     },
     "execution_count": 19,
     "metadata": {},
     "output_type": "execute_result"
    }
   ],
   "source": [
    "linregress(1000/T, -np.log(K_p_res))"
   ]
  },
  {
   "cell_type": "code",
   "execution_count": null,
   "id": "6b92de58-f26a-401e-8d0c-f93a3f015a38",
   "metadata": {},
   "outputs": [],
   "source": []
  }
 ],
 "metadata": {
  "kernelspec": {
   "display_name": "MyVEnv",
   "language": "python",
   "name": ".myvenv"
  },
  "language_info": {
   "codemirror_mode": {
    "name": "ipython",
    "version": 3
   },
   "file_extension": ".py",
   "mimetype": "text/x-python",
   "name": "python",
   "nbconvert_exporter": "python",
   "pygments_lexer": "ipython3",
   "version": "3.12.6"
  }
 },
 "nbformat": 4,
 "nbformat_minor": 5
}
