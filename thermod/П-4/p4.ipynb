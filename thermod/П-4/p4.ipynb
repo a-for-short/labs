{
 "cells": [
  {
   "cell_type": "markdown",
   "id": "600f6b5d-496a-4313-bbf9-beb6d9805b8b",
   "metadata": {},
   "source": [
    "# Потенциометрическое титрование"
   ]
  },
  {
   "cell_type": "code",
   "execution_count": 9,
   "id": "2b936661-366a-49a7-b9dc-ab9017fdb75e",
   "metadata": {},
   "outputs": [
    {
     "name": "stdout",
     "output_type": "stream",
     "text": [
      "526\n",
      "\n"
     ]
    }
   ],
   "source": [
    "import pandas as pd\n",
    "\n",
    "# Open the file and read the lines\n",
    "with open('data.tdc', 'r', encoding='latin-1') as file:\n",
    "    lines = file.readlines()\n",
    "\n",
    "# Find the start and end of the \"D_Tit\" section\n",
    "start_index = lines.index('D_Tit\\n') + 1\n",
    "end_index = start_index + lines[start_index:].index('\\n')\n",
    "\n",
    "# Extract the data for the \"D_Tit\" section\n",
    "data = [line.strip().split() for line in lines[start_index:end_index]]\n",
    "\n",
    "# Create a DataFrame from the data\n",
    "df = pd.DataFrame(data, columns=['Column1'])\n",
    "\n",
    "# Convert the column to numeric data type\n",
    "df['Column1'] = pd.to_numeric(df['Column1'])\n",
    "\n",
    "# Convert the DataFrame to a plain text string with columns separated by commas\n",
    "output = df.to_csv(index=False, header=False)\n",
    "\n",
    "# Print the output\n",
    "print(output)\n"
   ]
  },
  {
   "cell_type": "code",
   "execution_count": 8,
   "id": "40a35944-60a5-44f4-81b0-a6acba417882",
   "metadata": {},
   "outputs": [
    {
     "data": {
      "text/html": [
       "<div>\n",
       "<style scoped>\n",
       "    .dataframe tbody tr th:only-of-type {\n",
       "        vertical-align: middle;\n",
       "    }\n",
       "\n",
       "    .dataframe tbody tr th {\n",
       "        vertical-align: top;\n",
       "    }\n",
       "\n",
       "    .dataframe thead th {\n",
       "        text-align: right;\n",
       "    }\n",
       "</style>\n",
       "<table border=\"1\" class=\"dataframe\">\n",
       "  <thead>\n",
       "    <tr style=\"text-align: right;\">\n",
       "      <th></th>\n",
       "      <th>Column1</th>\n",
       "    </tr>\n",
       "  </thead>\n",
       "  <tbody>\n",
       "    <tr>\n",
       "      <th>0</th>\n",
       "      <td>526</td>\n",
       "    </tr>\n",
       "  </tbody>\n",
       "</table>\n",
       "</div>"
      ],
      "text/plain": [
       "   Column1\n",
       "0      526"
      ]
     },
     "execution_count": 8,
     "metadata": {},
     "output_type": "execute_result"
    }
   ],
   "source": [
    "df"
   ]
  },
  {
   "cell_type": "code",
   "execution_count": null,
   "id": "cb66d049-2bf9-4c31-a51d-f162aefdc33b",
   "metadata": {},
   "outputs": [],
   "source": []
  }
 ],
 "metadata": {
  "kernelspec": {
   "display_name": "MyVEnv",
   "language": "python",
   "name": ".myvenv"
  },
  "language_info": {
   "codemirror_mode": {
    "name": "ipython",
    "version": 3
   },
   "file_extension": ".py",
   "mimetype": "text/x-python",
   "name": "python",
   "nbconvert_exporter": "python",
   "pygments_lexer": "ipython3",
   "version": "3.12.7"
  }
 },
 "nbformat": 4,
 "nbformat_minor": 5
}
